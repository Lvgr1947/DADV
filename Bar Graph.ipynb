{
 "cells": [
  {
   "cell_type": "code",
   "execution_count": 4,
   "metadata": {},
   "outputs": [],
   "source": [
    "from bs4 import BeautifulSoup\n",
    "import requests\n",
    "import pandas as pd\n",
    "import numpy as np\n",
    "import matplotlib.pyplot as plt\n"
   ]
  },
  {
   "cell_type": "code",
   "execution_count": 5,
   "metadata": {},
   "outputs": [],
   "source": [
    "def extract_data(sectors):\n",
    "    html_content = requests.get(sectors).text\n",
    "    soup = BeautifulSoup(html_content, \"lxml\") \n",
    "    find_table = soup.find('table', class_='wikitable sortable')\n",
    "    j = 0\n",
    "    full_val = []\n",
    "    for link in find_table.find_all('tr'):\n",
    "        j += 1\n",
    "        if(j == 1):\n",
    "            continue\n",
    "        i = 0\n",
    "        d = {}\n",
    "        for ele in link.find_all('td'):\n",
    "            i += 1\n",
    "            if(i == 1):\n",
    "                st = ele.text\n",
    "                st = st[:-1]\n",
    "                d['symbol'] = st\n",
    "            elif(i == 4):\n",
    "                d['gics_sector'] = ele.text\n",
    "        \n",
    "        full_val.append(d)\n",
    "    df = pd.DataFrame(full_val)\n",
    "    # df.to_csv('fourth.csv')\n",
    "    return full_val\n"
   ]
  },
  {
   "cell_type": "code",
   "execution_count": 6,
   "metadata": {},
   "outputs": [],
   "source": [
    "def graph(val):\n",
    "    dp_top = {}\n",
    "    dp_bottom = {}\n",
    "    top = [val[i] for i in range(len(val)//2)]\n",
    "    bottom = [val[i] for i in range(len(val)//2,len(val))]\n",
    "    for x in top:\n",
    "        string = x['gics_sector']\n",
    "        if(string in dp_top):\n",
    "            dp_top[string] += 1\n",
    "        else:\n",
    "            dp_top[string] = 1\n",
    "    \n",
    "    for x in bottom:\n",
    "        string = x['gics_sector']\n",
    "        \n",
    "        if(string in dp_bottom):\n",
    "            dp_bottom[string] += 1\n",
    "        else:\n",
    "            dp_bottom[string] = 1\n",
    "    \n",
    "    return dp_top,dp_bottom"
   ]
  },
  {
   "cell_type": "code",
   "execution_count": 7,
   "metadata": {},
   "outputs": [],
   "source": [
    "def bar_graph(dp_top,dp_bottom):\n",
    "    dp_top = dict(sorted(dp_top.items(), key=lambda item: item[1],reverse=True)[:10])\n",
    "    dp_bottom = dict(sorted(dp_bottom.items(), key=lambda item: item[1],reverse=True)[:10])\n",
    "\n",
    "    dp_new = []\n",
    "    top_new = []\n",
    "    bottom_new = []\n",
    "    for i in dp_top:\n",
    "        if(i in dp_bottom):\n",
    "            top_new.append(dp_top[i])\n",
    "            bottom_new.append(dp_bottom[i])\n",
    "            dp_new.append(i)\n",
    "\n",
    "    data = []\n",
    "    data.append(top_new)\n",
    "    data.append(bottom_new)\n",
    "\n",
    "    barWidth = 0.25\n",
    "    fig = plt.subplots(figsize=(25,9))\n",
    "    br1 = np.arange(len(top_new))\n",
    "    br2 = [x + barWidth for x in br1]\n",
    "\n",
    "    plt.bar(br1, top_new, color ='g', width = barWidth, \n",
    "        edgecolor ='grey', label ='Top 25 companies') \n",
    "    plt.bar(br2, bottom_new, color ='r', width = barWidth, \n",
    "        edgecolor ='grey', label ='Bottom 25 companies') \n",
    "    plt.legend(labels=['Top 25', 'Bottom 25'])\n",
    "    plt.xlabel('Sectors', fontweight ='bold') \n",
    "    plt.ylabel('Frequency', fontweight ='bold')\n",
    "    plt.xticks([r + barWidth for r in range(len(top_new))], \n",
    "    dp_new) \n",
    "\n",
    "    plt.show()"
   ]
  },
  {
   "cell_type": "code",
   "execution_count": 8,
   "metadata": {},
   "outputs": [],
   "source": [
    "def function(sectors):\n",
    "    val = extract_data(sectors)\n",
    "    dp_top, dp_bottom = graph(val)\n",
    "    bar_graph(dp_top,dp_bottom)\n",
    "\n"
   ]
  },
  {
   "cell_type": "code",
   "execution_count": 9,
   "metadata": {},
   "outputs": [
    {
     "data": {
      "image/png": "[encoded data removed]",
      "text/plain": [
       "<Figure size 1800x648 with 1 Axes>"
      ]
     },
     "metadata": {
      "needs_background": "light"
     },
     "output_type": "display_data"
    }
   ],
   "source": [
    "url = 'https://en.wikipedia.org/wiki/List_of_S%26P_500_companies'\n",
    "function(url)"
   ]
  },
  {
   "cell_type": "code",
   "execution_count": null,
   "metadata": {},
   "outputs": [],
   "source": []
  }
 ],
 "metadata": {
  "kernelspec": {
   "display_name": "Python 3",
   "language": "python",
   "name": "python3"
  },
  "language_info": {
   "codemirror_mode": {
    "name": "ipython",
    "version": 3
   },
   "file_extension": ".py",
   "mimetype": "text/x-python",
   "name": "python",
   "nbconvert_exporter": "python",
   "pygments_lexer": "ipython3",
   "version": "3.8.3"
  }
 },
 "nbformat": 4,
 "nbformat_minor": 4
}
